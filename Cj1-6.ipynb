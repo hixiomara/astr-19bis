{
 "cells": [
  {
   "cell_type": "code",
   "execution_count": 3,
   "id": "d1a0c97f-ac16-4f88-b4b9-0770abe94b27",
   "metadata": {
    "scrolled": true
   },
   "outputs": [
    {
     "ename": "ModuleNotFoundError",
     "evalue": "No module named 'astropy'",
     "output_type": "error",
     "traceback": [
      "\u001b[1;31m---------------------------------------------------------------------------\u001b[0m",
      "\u001b[1;31mModuleNotFoundError\u001b[0m                       Traceback (most recent call last)",
      "Cell \u001b[1;32mIn[3], line 2\u001b[0m\n\u001b[0;32m      1\u001b[0m \u001b[38;5;28;01mimport\u001b[39;00m \u001b[38;5;21;01mnumpy\u001b[39;00m \u001b[38;5;28;01mas\u001b[39;00m \u001b[38;5;21;01mnp\u001b[39;00m\n\u001b[1;32m----> 2\u001b[0m \u001b[38;5;28;01mfrom\u001b[39;00m \u001b[38;5;21;01mastropy\u001b[39;00m\u001b[38;5;21;01m.\u001b[39;00m\u001b[38;5;21;01mtable\u001b[39;00m \u001b[38;5;28;01mimport\u001b[39;00m Table\n\u001b[0;32m      4\u001b[0m \u001b[38;5;66;03m#Function to calculate sin(x)\u001b[39;00m\n\u001b[0;32m      5\u001b[0m \u001b[38;5;28;01mdef\u001b[39;00m \u001b[38;5;21msin_function\u001b[39m(x):\n",
      "\u001b[1;31mModuleNotFoundError\u001b[0m: No module named 'astropy'"
     ]
    }
   ],
   "source": [
    "import numpy as np\n",
    "from astropy.table import Table\n",
    "\n",
    "#Function to calculate sin(x)\n",
    "def sin_function(x):\n",
    "    return np.sin(x)\n",
    "\n",
    "#Function to claculate cos(x)\n",
    "def cos_function(x):\n",
    "    return np.cos(x)\n",
    "\n",
    "#this cell defines the functions sin and cos \n",
    "\n",
    "def sin_cos_table():\n",
    "    arr_x = np.linspace(0, 2*np.pi, 1000)\n",
    "    arr_sin_x = np.sin(arr_x)\n",
    "    arr_cos_x = np.cos(arr_x)\n",
    "\n",
    "    data_table = Table()\n",
    "    data_table[\"x\"] = arr_x\n",
    "    data_table[\"sin(x)\"] = arr_sin_x\n",
    "    data_table[\"cos(x)\"] = arr_cos_x\n",
    "\n",
    "    data_table[\"x\"].format = \"{:.3f}\"\n",
    "    data_table[\"sin(x)\"].format = \"{:.3f}\"\n",
    "    data_table[\"cos(x)\"].format = \"{:.3f}\"\n",
    "\n",
    "    return data_table\n",
    "\n",
    "def main():\n",
    "    table = sin_cos_table()\n",
    "    print(table)\n",
    "    #Print the first ten values of sin and cos on loop\n",
    "    print(\"x\\t sin(x)\\t cos(x)\")\n",
    "    for i in range(10):\n",
    "        print(f\"{table['x'][i]:.3f}\\t {table['sin(x)'][i]:.3f}\\t {table['cos(x)'][i]:.3f}\")\n",
    "\n",
    "if __name__ == \"__main__\":\n",
    "    main()\n",
    "\n",
    "\n",
    "    \n",
    "\n"
   ]
  },
  {
   "cell_type": "code",
   "execution_count": null,
   "id": "e4fc6bb8-5513-4d03-b3ea-7ab6bf4f5c54",
   "metadata": {},
   "outputs": [],
   "source": [
    "#This allows for the utilization of numpy and use tables to solve equations"
   ]
  },
  {
   "cell_type": "code",
   "execution_count": null,
   "id": "d00bf6b5-687f-496d-9487-df9a75b49354",
   "metadata": {},
   "outputs": [],
   "source": [
    "import numpy as np\n",
    "from astropy.table import Table"
   ]
  },
  {
   "cell_type": "code",
   "execution_count": null,
   "id": "9debb26f-fec5-4880-9fa6-5198f0e3cc16",
   "metadata": {},
   "outputs": [],
   "source": [
    "#this funcion defines sin"
   ]
  },
  {
   "cell_type": "code",
   "execution_count": null,
   "id": "5030d685-f3f8-4ca8-85ce-5ae75bf247c4",
   "metadata": {},
   "outputs": [],
   "source": [
    "def sin_function(x):\n",
    "    return np.sin(x)"
   ]
  },
  {
   "cell_type": "code",
   "execution_count": null,
   "id": "defea2be-e7ec-48d8-8583-57ebd5d3ad49",
   "metadata": {},
   "outputs": [],
   "source": [
    "#this fuction defines cosine"
   ]
  },
  {
   "cell_type": "code",
   "execution_count": null,
   "id": "b5e8644e-9004-4d0b-ac77-42f83df6c057",
   "metadata": {},
   "outputs": [],
   "source": [
    "def cos_function(x):\n",
    "    return np.cos(x)"
   ]
  },
  {
   "cell_type": "code",
   "execution_count": null,
   "id": "d8affc8f-d966-450d-af21-0e24d0d74152",
   "metadata": {},
   "outputs": [],
   "source": [
    "#this is used to fomulate a table using both sin and cos for the value of X"
   ]
  },
  {
   "cell_type": "code",
   "execution_count": null,
   "id": "f668a977-722f-45f9-8fef-df695b9688bb",
   "metadata": {},
   "outputs": [],
   "source": [
    "def sin_cos_table():\n",
    "    arr_x = np.linspace(0, 2*np.pi, 1000)\n",
    "    arr_sin_x = np.sin(arr_x)\n",
    "    arr_cos_x = np.cos(arr_x)\n",
    "\n",
    "    data_table = Table()\n",
    "    data_table[\"x\"] = arr_x\n",
    "    data_table[\"sin(x)\"] = arr_sin_x\n",
    "    data_table[\"cos(x)\"] = arr_cos_x\n",
    "\n",
    "    data_table[\"x\"].format = \"{:.3f}\"\n",
    "    data_table[\"sin(x)\"].format = \"{:.3f}\"\n",
    "    data_table[\"cos(x)\"].format = \"{:.3f}\"\n",
    "\n",
    "    return data_table\n",
    "\n",
    "def main():\n",
    "    table = sin_cos_table()\n",
    "    print(table)"
   ]
  },
  {
   "cell_type": "code",
   "execution_count": null,
   "id": "021b9f21-3ac5-470c-baf4-899bf8096953",
   "metadata": {},
   "outputs": [],
   "source": [
    "#this function allows for the table to repeat the sequence crearted by the table by using a loop"
   ]
  },
  {
   "cell_type": "code",
   "execution_count": null,
   "id": "08473020-b4c6-4dd6-b5ee-55a67293d0fb",
   "metadata": {},
   "outputs": [],
   "source": [
    "   print(\"x\\t sin(x)\\t cos(x)\")\n",
    "    for i in range(10):\n",
    "        print(f\"{table['x'][i]:.3f}\\t {table['sin(x)'][i]:.3f}\\t {table['cos(x)'][i]:.3f}\")\n",
    "\n",
    "if __name__ == \"__main__\":\n",
    "    main()"
   ]
  },
  {
   "cell_type": "code",
   "execution_count": null,
   "id": "48a106ea-571e-4f33-81f4-5d80a3e360f3",
   "metadata": {},
   "outputs": [],
   "source": []
  }
 ],
 "metadata": {
  "kernelspec": {
   "display_name": "Python 3 (ipykernel)",
   "language": "python",
   "name": "python3"
  },
  "language_info": {
   "codemirror_mode": {
    "name": "ipython",
    "version": 3
   },
   "file_extension": ".py",
   "mimetype": "text/x-python",
   "name": "python",
   "nbconvert_exporter": "python",
   "pygments_lexer": "ipython3",
   "version": "3.12.1"
  }
 },
 "nbformat": 4,
 "nbformat_minor": 5
}
